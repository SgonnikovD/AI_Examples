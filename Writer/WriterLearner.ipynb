{
 "cells": [
  {
   "cell_type": "code",
   "execution_count": null,
   "id": "baad986b",
   "metadata": {},
   "outputs": [],
   "source": [
    "from fastai.text.all import *\n",
    "from fastcore.all import *"
   ]
  },
  {
   "cell_type": "code",
   "execution_count": null,
   "id": "ace47588",
   "metadata": {},
   "outputs": [],
   "source": [
    "path = Path()"
   ]
  },
  {
   "cell_type": "code",
   "execution_count": null,
   "id": "e6503a36",
   "metadata": {},
   "outputs": [],
   "source": [
    "class SpacyTokenizerBig():\n",
    "# Измененный класс токенайзера для поддержки словаря большого размера\n",
    "    def __init__(self, lang='en', special_toks=None, buf_sz=5000):\n",
    "        import spacy\n",
    "        from spacy.symbols import ORTH\n",
    "        self.special_toks = ifnone(special_toks, defaults.text_spec_tok)\n",
    "        nlp = spacy.blank(lang)\n",
    "        nlp.max_length = 10**10\n",
    "        for w in self.special_toks: nlp.tokenizer.add_special_case(w, [{ORTH: w}])\n",
    "        self.pipe,self.buf_sz = nlp.pipe,buf_sz\n",
    "\n",
    "    def __call__(self, items):\n",
    "        return (L(doc).attrgot('text') for doc in self.pipe(map(str,items), batch_size=self.buf_sz))"
   ]
  },
  {
   "cell_type": "code",
   "execution_count": null,
   "id": "f55a030d",
   "metadata": {},
   "outputs": [],
   "source": [
    "tok = SpacyTokenizerBig()"
   ]
  },
  {
   "cell_type": "code",
   "execution_count": null,
   "id": "11d8f617",
   "metadata": {},
   "outputs": [],
   "source": [
    "data_path = (path/'HarryPotter_txt')"
   ]
  },
  {
   "cell_type": "code",
   "execution_count": null,
   "id": "ab82e21c",
   "metadata": {},
   "outputs": [],
   "source": [
    "data_path = (path/'StephenKing_txt')"
   ]
  },
  {
   "cell_type": "code",
   "execution_count": null,
   "id": "b43125f5",
   "metadata": {},
   "outputs": [],
   "source": [
    "text_block = DataBlock(\n",
    "    blocks=TextBlock.from_folder(data_path, is_lm=True, tok=tok),\n",
    "    get_items = get_text_files,\n",
    "    splitter=RandomSplitter(0.1)\n",
    ")"
   ]
  },
  {
   "cell_type": "code",
   "execution_count": null,
   "id": "9efdd61f",
   "metadata": {},
   "outputs": [],
   "source": [
    "dls = text_block.dataloaders(data_path, path=data_path, bs=256, seq_len=64)"
   ]
  },
  {
   "cell_type": "code",
   "execution_count": null,
   "id": "73b51d74",
   "metadata": {},
   "outputs": [],
   "source": [
    "dls.show_batch(max_n=6)"
   ]
  },
  {
   "cell_type": "code",
   "execution_count": null,
   "id": "4d79173b",
   "metadata": {},
   "outputs": [],
   "source": [
    "learn = language_model_learner(dls, AWD_LSTM, metrics=[accuracy, Perplexity()]).to_fp16()"
   ]
  },
  {
   "cell_type": "code",
   "execution_count": null,
   "id": "e7af3277",
   "metadata": {},
   "outputs": [],
   "source": [
    "learn.fit_one_cycle(1, 2e-2)"
   ]
  },
  {
   "cell_type": "code",
   "execution_count": null,
   "id": "5550311d",
   "metadata": {},
   "outputs": [],
   "source": [
    "learn.unfreeze()\n",
    "learn.fit_one_cycle(10, 2e-3)"
   ]
  },
  {
   "cell_type": "code",
   "execution_count": null,
   "id": "032c826f",
   "metadata": {},
   "outputs": [],
   "source": [
    "learn.save('writer_HarPot_64_10epoch')"
   ]
  },
  {
   "cell_type": "code",
   "execution_count": null,
   "id": "314754a3",
   "metadata": {},
   "outputs": [],
   "source": [
    "learn.save('writer_StKng_64_10epoch')"
   ]
  },
  {
   "cell_type": "code",
   "execution_count": null,
   "id": "b91e6929",
   "metadata": {},
   "outputs": [],
   "source": [
    "learn.export(path/'WriterHP_model.pkl')"
   ]
  },
  {
   "cell_type": "code",
   "execution_count": null,
   "id": "a787c11d",
   "metadata": {},
   "outputs": [],
   "source": [
    "learn.export(path/'WriterStK_model.pkl')"
   ]
  },
  {
   "cell_type": "code",
   "execution_count": null,
   "id": "acca2456",
   "metadata": {},
   "outputs": [],
   "source": [
    "TEXT = \"It was a bright day\"\n",
    "N_WORDS = 200\n",
    "N_SENTENCES = 1\n",
    "preds = [learn.predict(TEXT, N_WORDS, temperature=1) \n",
    "         for _ in range(N_SENTENCES)]"
   ]
  },
  {
   "cell_type": "code",
   "execution_count": null,
   "id": "e3c0d2a9",
   "metadata": {},
   "outputs": [],
   "source": [
    "print(\"\\n\".join(preds))"
   ]
  }
 ],
 "metadata": {
  "kernelspec": {
   "display_name": "Python 3 (ipykernel)",
   "language": "python",
   "name": "python3"
  },
  "language_info": {
   "codemirror_mode": {
    "name": "ipython",
    "version": 3
   },
   "file_extension": ".py",
   "mimetype": "text/x-python",
   "name": "python",
   "nbconvert_exporter": "python",
   "pygments_lexer": "ipython3",
   "version": "3.9.7"
  }
 },
 "nbformat": 4,
 "nbformat_minor": 5
}
