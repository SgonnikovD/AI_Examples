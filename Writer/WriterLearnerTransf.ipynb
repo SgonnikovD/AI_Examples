{
 "cells": [
  {
   "cell_type": "code",
   "execution_count": 1,
   "id": "aa39adc2",
   "metadata": {},
   "outputs": [],
   "source": [
    "from transformers import GPT2LMHeadModel, GPT2Tokenizer\n",
    "import torch\n",
    "from fastai.text.all import *\n",
    "from sklearn.model_selection import train_test_split"
   ]
  },
  {
   "cell_type": "code",
   "execution_count": 4,
   "id": "0e4d7052",
   "metadata": {},
   "outputs": [],
   "source": [
    "GPT2LMHeadModel.from_pretrained?"
   ]
  },
  {
   "cell_type": "code",
   "execution_count": 2,
   "id": "9f88deb5",
   "metadata": {},
   "outputs": [],
   "source": [
    "pretrained_weights = 'gpt2'\n",
    "tokenizer = GPT2Tokenizer.from_pretrained(pretrained_weights)\n",
    "model = GPT2LMHeadModel.from_pretrained(pretrained_weights)"
   ]
  },
  {
   "cell_type": "code",
   "execution_count": 3,
   "id": "e423304c",
   "metadata": {},
   "outputs": [],
   "source": [
    "path = Path()"
   ]
  },
  {
   "cell_type": "code",
   "execution_count": 4,
   "id": "3ed0c6fe",
   "metadata": {},
   "outputs": [],
   "source": [
    "data_path = (path/'StephenKing_txt')"
   ]
  },
  {
   "cell_type": "code",
   "execution_count": 4,
   "id": "e9e0f32c",
   "metadata": {},
   "outputs": [],
   "source": [
    "data_path = (path/'HarryPotter_txt')"
   ]
  },
  {
   "cell_type": "code",
   "execution_count": 5,
   "id": "e4dc179a",
   "metadata": {},
   "outputs": [],
   "source": [
    "df = pd.DataFrame()\n",
    "for txt_f in get_text_files(data_path):\n",
    "    with open(txt_f, encoding='utf-8') as f:\n",
    "        while True:\n",
    "            txt = f.read(2048)\n",
    "            if(txt == ''): break\n",
    "            df = df.append([txt], ignore_index=True)"
   ]
  },
  {
   "cell_type": "code",
   "execution_count": 7,
   "id": "142761b9",
   "metadata": {},
   "outputs": [],
   "source": [
    "class TransformersTokenizer(Transform):\n",
    "    def __init__(self, tokenizer): self.tokenizer = tokenizer\n",
    "    def encodes(self, x): \n",
    "        toks = self.tokenizer.tokenize(x)\n",
    "        return tensor(self.tokenizer.convert_tokens_to_ids(toks))\n",
    "    def decodes(self, x): return TitledStr(self.tokenizer.decode(x.cpu().numpy()))"
   ]
  },
  {
   "cell_type": "code",
   "execution_count": 9,
   "id": "a884c21b",
   "metadata": {},
   "outputs": [],
   "source": [
    "splits = train_test_split(list(range(df.count()[0])), test_size=0.1)\n",
    "tls = TfmdLists(df[0].values, TransformersTokenizer(tokenizer), splits=splits, dl_type=LMDataLoader)"
   ]
  },
  {
   "cell_type": "code",
   "execution_count": 10,
   "id": "1bfb5b2b",
   "metadata": {},
   "outputs": [],
   "source": [
    "bs,sl = 8,256\n",
    "dls = tls.dataloaders(bs=bs, seq_len=sl)"
   ]
  },
  {
   "cell_type": "code",
   "execution_count": 11,
   "id": "f85a5441",
   "metadata": {},
   "outputs": [
    {
     "data": {
      "text/html": [
       "<table border=\"1\" class=\"dataframe\">\n",
       "  <thead>\n",
       "    <tr style=\"text-align: right;\">\n",
       "      <th></th>\n",
       "      <th>text</th>\n",
       "      <th>text_</th>\n",
       "    </tr>\n",
       "  </thead>\n",
       "  <tbody>\n",
       "    <tr>\n",
       "      <th>0</th>\n",
       "      <td>urn, Christine led him there.\\n\\nThere was a long, frozen moment. A little moan escaped Leigh's throat. Arnie stood not quite halfway across the small parking lot, dressed in his high school jacket, faded jeans, boots. A plaid scarf was tied around his throat. The collar of his jacket was turned up, and its black wings framed a face that was slowly twisting from an expression of sick incredulity into a pallid grimace of hate, The red-and-white-striped bag with the Colonel's smiling face on it slipped out of one of his gloved hands and thumped onto the packed snow of the parking lot.\\n\\n\"Dennis,\" Leigh whispered. \"Dennis, oh my God.\"\\n\\nHe began to run. I thought he was coming to the car, probably to haul me out and work me over. I could see myself hopping feebly around on my not-so-good good leg under the parking-lot lights that had just come on while</td>\n",
       "      <td>, Christine led him there.\\n\\nThere was a long, frozen moment. A little moan escaped Leigh's throat. Arnie stood not quite halfway across the small parking lot, dressed in his high school jacket, faded jeans, boots. A plaid scarf was tied around his throat. The collar of his jacket was turned up, and its black wings framed a face that was slowly twisting from an expression of sick incredulity into a pallid grimace of hate, The red-and-white-striped bag with the Colonel's smiling face on it slipped out of one of his gloved hands and thumped onto the packed snow of the parking lot.\\n\\n\"Dennis,\" Leigh whispered. \"Dennis, oh my God.\"\\n\\nHe began to run. I thought he was coming to the car, probably to haul me out and work me over. I could see myself hopping feebly around on my not-so-good good leg under the parking-lot lights that had just come on while</td>\n",
       "    </tr>\n",
       "    <tr>\n",
       "      <th>1</th>\n",
       "      <td>]\\n\\nDetective Anderson: Well, Claude, it must be nice for you to be here when you’re not in trouble. Refreshing.\\n\\nBolton: You know, it kind of is. And to get a ride in the front of a police car instead of in the back. Ninety miles an hour most of the way back from Cap City. Lights, siren, the whole works. You’re right. It was nice.\\n\\nDetective Anderson: What were you doing in Cap?\\n\\nBolton: Seeing the sights. Had a couple of nights off, so why not? No law against it, is there?\\n\\nDetective Anderson: I understand you were seeing them with Carla Jeppeson, known as Pixie Dreamboat when she’s working.\\n\\nBolton: You should know, since she came back in the cruiser with me. She also appreciated the ride, by the way. Said it beat the hell out of Trailways.\\n\\nDetective Anderson: And the sights you saw, most of those would have been in Room 509 of</td>\n",
       "      <td>\\n\\nDetective Anderson: Well, Claude, it must be nice for you to be here when you’re not in trouble. Refreshing.\\n\\nBolton: You know, it kind of is. And to get a ride in the front of a police car instead of in the back. Ninety miles an hour most of the way back from Cap City. Lights, siren, the whole works. You’re right. It was nice.\\n\\nDetective Anderson: What were you doing in Cap?\\n\\nBolton: Seeing the sights. Had a couple of nights off, so why not? No law against it, is there?\\n\\nDetective Anderson: I understand you were seeing them with Carla Jeppeson, known as Pixie Dreamboat when she’s working.\\n\\nBolton: You should know, since she came back in the cruiser with me. She also appreciated the ride, by the way. Said it beat the hell out of Trailways.\\n\\nDetective Anderson: And the sights you saw, most of those would have been in Room 509 of</td>\n",
       "    </tr>\n",
       "  </tbody>\n",
       "</table>"
      ],
      "text/plain": [
       "<IPython.core.display.HTML object>"
      ]
     },
     "metadata": {},
     "output_type": "display_data"
    }
   ],
   "source": [
    "dls.show_batch(max_n=2)"
   ]
  },
  {
   "cell_type": "code",
   "execution_count": 12,
   "id": "7fcf6c5a",
   "metadata": {},
   "outputs": [],
   "source": [
    "class DropOutput(Callback):\n",
    "    def after_pred(self): self.learn.pred = self.pred[0]"
   ]
  },
  {
   "cell_type": "code",
   "execution_count": 13,
   "id": "fad45a09",
   "metadata": {},
   "outputs": [],
   "source": [
    "learn = Learner(dls, model, loss_func=CrossEntropyLossFlat(), cbs=[DropOutput], metrics=Perplexity()).to_fp16()"
   ]
  },
  {
   "cell_type": "code",
   "execution_count": 14,
   "id": "c72428d0",
   "metadata": {},
   "outputs": [
    {
     "data": {
      "text/html": [
       "\n",
       "<style>\n",
       "    /* Turns off some styling */\n",
       "    progress {\n",
       "        /* gets rid of default border in Firefox and Opera. */\n",
       "        border: none;\n",
       "        /* Needs to be in here for Safari polyfill so background images work as expected. */\n",
       "        background-size: auto;\n",
       "    }\n",
       "    progress:not([value]), progress:not([value])::-webkit-progress-bar {\n",
       "        background: repeating-linear-gradient(45deg, #7e7e7e, #7e7e7e 10px, #5c5c5c 10px, #5c5c5c 20px);\n",
       "    }\n",
       "    .progress-bar-interrupted, .progress-bar-interrupted::-webkit-progress-bar {\n",
       "        background: #F44336;\n",
       "    }\n",
       "</style>\n"
      ],
      "text/plain": [
       "<IPython.core.display.HTML object>"
      ]
     },
     "metadata": {},
     "output_type": "display_data"
    },
    {
     "data": {
      "text/html": [],
      "text/plain": [
       "<IPython.core.display.HTML object>"
      ]
     },
     "metadata": {},
     "output_type": "display_data"
    },
    {
     "data": {
      "text/plain": [
       "(#2) [3.683969020843506,39.8040657043457]"
      ]
     },
     "execution_count": 14,
     "metadata": {},
     "output_type": "execute_result"
    }
   ],
   "source": [
    "learn.validate()"
   ]
  },
  {
   "cell_type": "code",
   "execution_count": 153,
   "id": "6122d7ed",
   "metadata": {},
   "outputs": [
    {
     "data": {
      "text/html": [
       "\n",
       "<style>\n",
       "    /* Turns off some styling */\n",
       "    progress {\n",
       "        /* gets rid of default border in Firefox and Opera. */\n",
       "        border: none;\n",
       "        /* Needs to be in here for Safari polyfill so background images work as expected. */\n",
       "        background-size: auto;\n",
       "    }\n",
       "    progress:not([value]), progress:not([value])::-webkit-progress-bar {\n",
       "        background: repeating-linear-gradient(45deg, #7e7e7e, #7e7e7e 10px, #5c5c5c 10px, #5c5c5c 20px);\n",
       "    }\n",
       "    .progress-bar-interrupted, .progress-bar-interrupted::-webkit-progress-bar {\n",
       "        background: #F44336;\n",
       "    }\n",
       "</style>\n"
      ],
      "text/plain": [
       "<IPython.core.display.HTML object>"
      ]
     },
     "metadata": {},
     "output_type": "display_data"
    },
    {
     "data": {
      "text/html": [],
      "text/plain": [
       "<IPython.core.display.HTML object>"
      ]
     },
     "metadata": {},
     "output_type": "display_data"
    },
    {
     "data": {
      "text/plain": [
       "SuggestedLRs(valley=7.585775892948732e-05)"
      ]
     },
     "execution_count": 153,
     "metadata": {},
     "output_type": "execute_result"
    },
    {
     "data": {
      "image/png": "[encoded data removed]",
      "text/plain": [
       "<Figure size 432x288 with 1 Axes>"
      ]
     },
     "metadata": {
      "needs_background": "light"
     },
     "output_type": "display_data"
    }
   ],
   "source": [
    "learn.lr_find()"
   ]
  },
  {
   "cell_type": "code",
   "execution_count": 15,
   "id": "90cad05b",
   "metadata": {},
   "outputs": [
    {
     "data": {
      "text/html": [
       "\n",
       "<style>\n",
       "    /* Turns off some styling */\n",
       "    progress {\n",
       "        /* gets rid of default border in Firefox and Opera. */\n",
       "        border: none;\n",
       "        /* Needs to be in here for Safari polyfill so background images work as expected. */\n",
       "        background-size: auto;\n",
       "    }\n",
       "    progress:not([value]), progress:not([value])::-webkit-progress-bar {\n",
       "        background: repeating-linear-gradient(45deg, #7e7e7e, #7e7e7e 10px, #5c5c5c 10px, #5c5c5c 20px);\n",
       "    }\n",
       "    .progress-bar-interrupted, .progress-bar-interrupted::-webkit-progress-bar {\n",
       "        background: #F44336;\n",
       "    }\n",
       "</style>\n"
      ],
      "text/plain": [
       "<IPython.core.display.HTML object>"
      ]
     },
     "metadata": {},
     "output_type": "display_data"
    },
    {
     "data": {
      "text/html": [
       "<table border=\"1\" class=\"dataframe\">\n",
       "  <thead>\n",
       "    <tr style=\"text-align: left;\">\n",
       "      <th>epoch</th>\n",
       "      <th>train_loss</th>\n",
       "      <th>valid_loss</th>\n",
       "      <th>perplexity</th>\n",
       "      <th>time</th>\n",
       "    </tr>\n",
       "  </thead>\n",
       "  <tbody>\n",
       "    <tr>\n",
       "      <td>0</td>\n",
       "      <td>3.360280</td>\n",
       "      <td>3.234969</td>\n",
       "      <td>25.405594</td>\n",
       "      <td>57:13</td>\n",
       "    </tr>\n",
       "  </tbody>\n",
       "</table>"
      ],
      "text/plain": [
       "<IPython.core.display.HTML object>"
      ]
     },
     "metadata": {},
     "output_type": "display_data"
    },
    {
     "name": "stdout",
     "output_type": "stream",
     "text": [
      "CPU times: total: 53min 42s\n",
      "Wall time: 57min 13s\n"
     ]
    }
   ],
   "source": [
    "%%time\n",
    "learn.fit_one_cycle(1, 1e-4)"
   ]
  },
  {
   "cell_type": "code",
   "execution_count": 16,
   "id": "7ce5da48",
   "metadata": {},
   "outputs": [],
   "source": [
    "prompt = \"It was a bright day.\"\n",
    "prompt_ids = tokenizer.encode(prompt)\n",
    "inp = tensor(prompt_ids)[None].cuda()"
   ]
  },
  {
   "cell_type": "code",
   "execution_count": 17,
   "id": "e5b0a33e",
   "metadata": {},
   "outputs": [
    {
     "name": "stderr",
     "output_type": "stream",
     "text": [
      "The attention mask and the pad token id were not set. As a consequence, you may observe unexpected behavior. Please pass your input's `attention_mask` to obtain reliable results.\n",
      "Setting `pad_token_id` to `eos_token_id`:50256 for open-end generation.\n"
     ]
    },
    {
     "data": {
      "text/plain": [
       "'It was a bright day.\\n\\'I\\'ll get you some coffee, Bobby!\\' she cried at last and got her cup back on the table before I could finish my meal—a nice surprise from someone who had been working in an office with two other people when we first started out here.\\'\\n\\n \"What are they doing? What\\'s their plan?\" She said to me like that...\" The voice of one whose name has always stuck together is very clear now: It comes through his mouth instead! \\'They\\'re going after us,\\' he says again, almost as if it might have happened without even knowing about himself; this time not exactly true but certainly plausible enough for him...and so does all those things... what can be done?\\' And then there were three more words coming over both hands — “We’ll see eachother soon…if only just righteously … or else.\" He looked away slightly toward Mrs Arnie because no matter how much Mr Anderson thought something wasn\\'t happening (it wouldn-be lying), Steve Darnell didnt think any better than either side would do until everyone saw them come into view by accident rather late – which usually happens quite quickly during these times anyway -but once everything came down around five o mst s early tomorrow afternoon morning Terry Norton took off running across Broad Street wearing shorts slacks underpants laced neatly up between legs beneath long white socks hanging loosely above sneakers dangling below heels where ankles hung loose while knees crumbled along behind boots holding open shoes sticking straight forward underneath feet flapping wildly backward onto bare pavement beside cars jutting overhead parked against walls painted black asphalt smeared by dustbombs rising upwardly beyond windows gleaming red paintwork piled high ahead boards filled generously full sized wagons lined topically next wheelbars mounted atop wooden pallet doors marked RANDS OF THE MASSACHUSETTS BY SIXTEEN BEDROOMS AND SEVEN STREETS AT LESS THan most men donnning short sleeved shirts tucked snugily past sweat pockets taped shut close themselves tightly tight inside jeans pocketed tighter still wider pants tied round waist loops wrapped fastened firmly outside tanned shoulders lining every inch except lipbones made possible mostly via sewing machine stitch marks left undone too deep) followed closely upon Ralph standing hunched low near front desk doorway doorframe leaning heavily asleep staring intently awake eyes wide apart suddenly startled yet aware glances met hers blank expressionless face looking curiously tired indeed'"
      ]
     },
     "execution_count": 17,
     "metadata": {},
     "output_type": "execute_result"
    }
   ],
   "source": [
    "preds = learn.model.generate(inp, max_length=500, repetition_penalty=6.0,\n",
    "                             temperature=1.5, no_repeat_ngram_size=2,\n",
    "                             do_sample=True, top_k=5, top_p=0.95)\n",
    "tokenizer.decode(preds[0].cpu().numpy())"
   ]
  },
  {
   "cell_type": "code",
   "execution_count": null,
   "id": "8b9eea0f",
   "metadata": {},
   "outputs": [],
   "source": [
    "learn.export(path/'WriterHP_transf_model.pkl')"
   ]
  },
  {
   "cell_type": "code",
   "execution_count": 18,
   "id": "1a59e54b",
   "metadata": {},
   "outputs": [],
   "source": [
    "learn.export(path/'WriterStKng_transf_model.pkl')"
   ]
  },
  {
   "cell_type": "code",
   "execution_count": null,
   "id": "4ddaedc1",
   "metadata": {},
   "outputs": [],
   "source": [
    "learn.save('writer_HarPot_transf_1epoch')"
   ]
  },
  {
   "cell_type": "code",
   "execution_count": 19,
   "id": "adec8389",
   "metadata": {},
   "outputs": [
    {
     "data": {
      "text/plain": [
       "Path('models/writer_StKng_transf_1epoch.pth')"
      ]
     },
     "execution_count": 19,
     "metadata": {},
     "output_type": "execute_result"
    }
   ],
   "source": [
    "learn.save('writer_StKng_transf_1epoch')"
   ]
  }
 ],
 "metadata": {
  "kernelspec": {
   "display_name": "Python 3 (ipykernel)",
   "language": "python",
   "name": "python3"
  },
  "language_info": {
   "codemirror_mode": {
    "name": "ipython",
    "version": 3
   },
   "file_extension": ".py",
   "mimetype": "text/x-python",
   "name": "python",
   "nbconvert_exporter": "python",
   "pygments_lexer": "ipython3",
   "version": "3.9.7"
  }
 },
 "nbformat": 4,
 "nbformat_minor": 5
}
