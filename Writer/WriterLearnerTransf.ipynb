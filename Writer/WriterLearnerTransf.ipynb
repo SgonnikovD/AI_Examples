{
 "cells": [
  {
   "cell_type": "code",
   "execution_count": null,
   "id": "aa39adc2",
   "metadata": {},
   "outputs": [],
   "source": [
    "from transformers import GPT2LMHeadModel, GPT2Tokenizer\n",
    "import torch\n",
    "from fastai.text.all import *\n",
    "from sklearn.model_selection import train_test_split"
   ]
  },
  {
   "cell_type": "code",
   "execution_count": null,
   "id": "9f88deb5",
   "metadata": {},
   "outputs": [],
   "source": [
    "pretrained_weights = 'gpt2'\n",
    "tokenizer = GPT2Tokenizer.from_pretrained(pretrained_weights)\n",
    "model = GPT2LMHeadModel.from_pretrained(pretrained_weights)"
   ]
  },
  {
   "cell_type": "code",
   "execution_count": null,
   "id": "e423304c",
   "metadata": {},
   "outputs": [],
   "source": [
    "path = Path()"
   ]
  },
  {
   "cell_type": "code",
   "execution_count": null,
   "id": "3ed0c6fe",
   "metadata": {},
   "outputs": [],
   "source": [
    "data_path = (path/'StephenKing_txt')"
   ]
  },
  {
   "cell_type": "code",
   "execution_count": null,
   "id": "e9e0f32c",
   "metadata": {},
   "outputs": [],
   "source": [
    "data_path = (path/'HarryPotter_txt')"
   ]
  },
  {
   "cell_type": "code",
   "execution_count": null,
   "id": "e4dc179a",
   "metadata": {},
   "outputs": [],
   "source": [
    "df = pd.DataFrame()\n",
    "for txt_f in get_text_files(data_path):\n",
    "    with open(txt_f, encoding='utf-8') as f:\n",
    "        while True:\n",
    "            txt = f.read(2048)\n",
    "            if(txt == ''): break\n",
    "            df = df.append([txt], ignore_index=True)"
   ]
  },
  {
   "cell_type": "code",
   "execution_count": null,
   "id": "142761b9",
   "metadata": {},
   "outputs": [],
   "source": [
    "class TransformersTokenizer(Transform):\n",
    "    \"\"\"Класс токенайзера для работы с GPT2\"\"\"\n",
    "    def __init__(self, tokenizer): self.tokenizer = tokenizer\n",
    "    def encodes(self, x): \n",
    "        toks = self.tokenizer.tokenize(x)\n",
    "        return tensor(self.tokenizer.convert_tokens_to_ids(toks))\n",
    "    def decodes(self, x): return TitledStr(self.tokenizer.decode(x.cpu().numpy()))"
   ]
  },
  {
   "cell_type": "code",
   "execution_count": null,
   "id": "a884c21b",
   "metadata": {},
   "outputs": [],
   "source": [
    "splits = train_test_split(list(range(df.count()[0])), test_size=0.1)\n",
    "tls = TfmdLists(df[0].values, TransformersTokenizer(tokenizer), splits=splits, dl_type=LMDataLoader)"
   ]
  },
  {
   "cell_type": "code",
   "execution_count": null,
   "id": "1bfb5b2b",
   "metadata": {},
   "outputs": [],
   "source": [
    "bs,sl = 8,256\n",
    "dls = tls.dataloaders(bs=bs, seq_len=sl)"
   ]
  },
  {
   "cell_type": "code",
   "execution_count": null,
   "id": "f85a5441",
   "metadata": {},
   "outputs": [],
   "source": [
    "dls.show_batch(max_n=2)"
   ]
  },
  {
   "cell_type": "code",
   "execution_count": null,
   "id": "7fcf6c5a",
   "metadata": {},
   "outputs": [],
   "source": [
    "class DropOutput(Callback):\n",
    "    \"\"\"Класс поддержки для обучения GPT2\"\"\"\n",
    "    def after_pred(self): self.learn.pred = self.pred[0]"
   ]
  },
  {
   "cell_type": "code",
   "execution_count": null,
   "id": "fad45a09",
   "metadata": {},
   "outputs": [],
   "source": [
    "learn = Learner(dls, model, loss_func=CrossEntropyLossFlat(), cbs=[DropOutput], metrics=Perplexity()).to_fp16()"
   ]
  },
  {
   "cell_type": "code",
   "execution_count": null,
   "id": "c72428d0",
   "metadata": {},
   "outputs": [],
   "source": [
    "learn.validate()"
   ]
  },
  {
   "cell_type": "code",
   "execution_count": null,
   "id": "6122d7ed",
   "metadata": {},
   "outputs": [],
   "source": [
    "learn.lr_find()"
   ]
  },
  {
   "cell_type": "code",
   "execution_count": null,
   "id": "90cad05b",
   "metadata": {},
   "outputs": [],
   "source": [
    "%%time\n",
    "learn.fit_one_cycle(1, 1e-4)"
   ]
  },
  {
   "cell_type": "code",
   "execution_count": null,
   "id": "7ce5da48",
   "metadata": {},
   "outputs": [],
   "source": [
    "prompt = \"It was a bright day.\"\n",
    "prompt_ids = tokenizer.encode(prompt)\n",
    "inp = tensor(prompt_ids)[None].cuda()"
   ]
  },
  {
   "cell_type": "code",
   "execution_count": null,
   "id": "e5b0a33e",
   "metadata": {},
   "outputs": [],
   "source": [
    "preds = learn.model.generate(inp, max_length=500, repetition_penalty=6.0,\n",
    "                             temperature=1.5, no_repeat_ngram_size=2,\n",
    "                             do_sample=True, top_k=5, top_p=0.95)\n",
    "tokenizer.decode(preds[0].cpu().numpy())"
   ]
  },
  {
   "cell_type": "code",
   "execution_count": null,
   "id": "8b9eea0f",
   "metadata": {},
   "outputs": [],
   "source": [
    "learn.export(path/'WriterHP_transf_model.pkl')"
   ]
  },
  {
   "cell_type": "code",
   "execution_count": null,
   "id": "1a59e54b",
   "metadata": {},
   "outputs": [],
   "source": [
    "learn.export(path/'WriterStKng_transf_model.pkl')"
   ]
  },
  {
   "cell_type": "code",
   "execution_count": null,
   "id": "4ddaedc1",
   "metadata": {},
   "outputs": [],
   "source": [
    "learn.save('writer_HarPot_transf_1epoch')"
   ]
  },
  {
   "cell_type": "code",
   "execution_count": null,
   "id": "adec8389",
   "metadata": {},
   "outputs": [],
   "source": [
    "learn.save('writer_StKng_transf_1epoch')"
   ]
  }
 ],
 "metadata": {
  "kernelspec": {
   "display_name": "Python 3 (ipykernel)",
   "language": "python",
   "name": "python3"
  },
  "language_info": {
   "codemirror_mode": {
    "name": "ipython",
    "version": 3
   },
   "file_extension": ".py",
   "mimetype": "text/x-python",
   "name": "python",
   "nbconvert_exporter": "python",
   "pygments_lexer": "ipython3",
   "version": "3.9.7"
  }
 },
 "nbformat": 4,
 "nbformat_minor": 5
}
