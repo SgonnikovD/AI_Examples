{
 "cells": [
  {
   "cell_type": "code",
   "execution_count": null,
   "id": "eb52bc9a",
   "metadata": {
    "executionInfo": {
     "elapsed": 5651,
     "status": "ok",
     "timestamp": 1687331599835,
     "user": {
      "displayName": "Дмитрий Сгонников",
      "userId": "07223271298258593029"
     },
     "user_tz": -180
    },
    "id": "eb52bc9a"
   },
   "outputs": [],
   "source": [
    "from fastai.text.all import *\n",
    "from fastcore.all import *"
   ]
  },
  {
   "cell_type": "code",
   "execution_count": null,
   "id": "e6a9d899",
   "metadata": {
    "colab": {
     "base_uri": "https://localhost:8080/"
    },
    "executionInfo": {
     "elapsed": 19,
     "status": "ok",
     "timestamp": 1687331599837,
     "user": {
      "displayName": "Дмитрий Сгонников",
      "userId": "07223271298258593029"
     },
     "user_tz": -180
    },
    "id": "e6a9d899",
    "outputId": "b546dd10-8900-4d51-e253-50aa324b1dfe"
   },
   "outputs": [],
   "source": [
    "path = Path()"
   ]
  },
  {
   "cell_type": "code",
   "execution_count": null,
   "id": "a6f0e1a3",
   "metadata": {
    "executionInfo": {
     "elapsed": 9,
     "status": "ok",
     "timestamp": 1687331619566,
     "user": {
      "displayName": "Дмитрий Сгонников",
      "userId": "07223271298258593029"
     },
     "user_tz": -180
    },
    "id": "a6f0e1a3"
   },
   "outputs": [],
   "source": [
    "class SpacyTokenizerBig():\n",
    "# Измененный класс токенайзера для поддержки словаря большого размера\n",
    "    \"Spacy tokenizer for `lang`\"\n",
    "    def __init__(self, lang='en', special_toks=None, buf_sz=5000):\n",
    "        import spacy\n",
    "        from spacy.symbols import ORTH\n",
    "        self.special_toks = ifnone(special_toks, defaults.text_spec_tok)\n",
    "        nlp = spacy.blank(lang)\n",
    "        nlp.max_length = 10**10\n",
    "        for w in self.special_toks: nlp.tokenizer.add_special_case(w, [{ORTH: w}])\n",
    "        self.pipe,self.buf_sz = nlp.pipe,buf_sz\n",
    "\n",
    "    def __call__(self, items):\n",
    "        return (L(doc).attrgot('text') for doc in self.pipe(map(str,items), batch_size=self.buf_sz))"
   ]
  },
  {
   "cell_type": "code",
   "execution_count": null,
   "id": "ebab4bf9",
   "metadata": {},
   "outputs": [],
   "source": [
    "tok = SpacyTokenizerBig()"
   ]
  },
  {
   "cell_type": "code",
   "execution_count": null,
   "id": "792c48cf",
   "metadata": {
    "executionInfo": {
     "elapsed": 8,
     "status": "ok",
     "timestamp": 1687331619567,
     "user": {
      "displayName": "Дмитрий Сгонников",
      "userId": "07223271298258593029"
     },
     "user_tz": -180
    },
    "id": "792c48cf"
   },
   "outputs": [],
   "source": [
    "data_path = (path/'StephenKing_txt')"
   ]
  },
  {
   "cell_type": "code",
   "execution_count": null,
   "id": "96790c75",
   "metadata": {
    "executionInfo": {
     "elapsed": 2483,
     "status": "ok",
     "timestamp": 1687331640131,
     "user": {
      "displayName": "Дмитрий Сгонников",
      "userId": "07223271298258593029"
     },
     "user_tz": -180
    },
    "id": "96790c75"
   },
   "outputs": [],
   "source": [
    "text_block = DataBlock(\n",
    "    blocks=TextBlock.from_folder(data_path, is_lm=True, tok=tok),\n",
    "    get_items = get_text_files,\n",
    "    splitter=RandomSplitter(0.1)\n",
    ")"
   ]
  },
  {
   "cell_type": "code",
   "execution_count": null,
   "id": "45c2beab",
   "metadata": {
    "executionInfo": {
     "elapsed": 423,
     "status": "ok",
     "timestamp": 1687331640548,
     "user": {
      "displayName": "Дмитрий Сгонников",
      "userId": "07223271298258593029"
     },
     "user_tz": -180
    },
    "id": "45c2beab"
   },
   "outputs": [],
   "source": [
    "dls = text_block.dataloaders(data_path, path=data_path, bs=192, seq_len=64)"
   ]
  },
  {
   "cell_type": "code",
   "execution_count": null,
   "id": "46ba839d",
   "metadata": {},
   "outputs": [],
   "source": [
    "dls.show_batch(max_n=6)"
   ]
  },
  {
   "cell_type": "code",
   "execution_count": null,
   "id": "4403068a",
   "metadata": {
    "colab": {
     "base_uri": "https://localhost:8080/",
     "height": 37
    },
    "executionInfo": {
     "elapsed": 5964,
     "status": "ok",
     "timestamp": 1687331646503,
     "user": {
      "displayName": "Дмитрий Сгонников",
      "userId": "07223271298258593029"
     },
     "user_tz": -180
    },
    "id": "4403068a",
    "outputId": "264bac40-f241-4bfa-a474-be849dea5a61"
   },
   "outputs": [],
   "source": [
    "learn = language_model_learner(dls, AWD_LSTM, metrics=[accuracy, Perplexity()]).to_fp16()"
   ]
  },
  {
   "cell_type": "code",
   "execution_count": null,
   "id": "b0924ec1",
   "metadata": {
    "colab": {
     "base_uri": "https://localhost:8080/",
     "height": 80
    },
    "executionInfo": {
     "elapsed": 8660894,
     "status": "ok",
     "timestamp": 1687181687254,
     "user": {
      "displayName": "Дмитрий Сгонников",
      "userId": "07223271298258593029"
     },
     "user_tz": -180
    },
    "id": "b0924ec1",
    "outputId": "eb7b2f6d-2960-46d3-eae6-ef8971eea99a"
   },
   "outputs": [],
   "source": [
    "learn.fit_one_cycle(1, 2e-2)"
   ]
  },
  {
   "cell_type": "code",
   "execution_count": null,
   "id": "_NajLPMR4wVq",
   "metadata": {
    "colab": {
     "base_uri": "https://localhost:8080/",
     "height": 204
    },
    "executionInfo": {
     "elapsed": 8381718,
     "status": "ok",
     "timestamp": 1677536796134,
     "user": {
      "displayName": "Дмитрий Сгонников",
      "userId": "07223271298258593029"
     },
     "user_tz": -180
    },
    "id": "_NajLPMR4wVq",
    "outputId": "c89c09d2-df23-4a78-acf9-020a4c2e3015"
   },
   "outputs": [],
   "source": [
    "learn.unfreeze()\n",
    "learn.fit_one_cycle(10, 2e-3)"
   ]
  },
  {
   "cell_type": "code",
   "execution_count": null,
   "id": "ba2a8ac8",
   "metadata": {
    "colab": {
     "base_uri": "https://localhost:8080/"
    },
    "executionInfo": {
     "elapsed": 1626,
     "status": "ok",
     "timestamp": 1677536797741,
     "user": {
      "displayName": "Дмитрий Сгонников",
      "userId": "07223271298258593029"
     },
     "user_tz": -180
    },
    "id": "ba2a8ac8",
    "outputId": "e7905de9-0a4e-4ce6-bae8-eaa4509e6fe7"
   },
   "outputs": [],
   "source": [
    "learn.save('writer_StKng_64_10epoch')"
   ]
  },
  {
   "cell_type": "code",
   "execution_count": null,
   "id": "9b636073",
   "metadata": {},
   "outputs": [],
   "source": [
    "learn.export(path/'WriterStK_model.pkl')"
   ]
  },
  {
   "cell_type": "code",
   "execution_count": null,
   "id": "1d9a447a",
   "metadata": {
    "colab": {
     "base_uri": "https://localhost:8080/",
     "height": 17
    },
    "executionInfo": {
     "elapsed": 42770,
     "status": "ok",
     "timestamp": 1687340080077,
     "user": {
      "displayName": "Дмитрий Сгонников",
      "userId": "07223271298258593029"
     },
     "user_tz": -180
    },
    "id": "1d9a447a",
    "outputId": "754869a5-504e-41c3-9d3b-c6574c175d15"
   },
   "outputs": [],
   "source": [
    "TEXT = \"It was a shiny day\"\n",
    "N_WORDS = 200\n",
    "N_SENTENCES = 1\n",
    "preds = [learn.predict(TEXT, N_WORDS, temperature=1)\n",
    "         for _ in range(N_SENTENCES)]"
   ]
  },
  {
   "cell_type": "code",
   "execution_count": null,
   "id": "qvEua-8I_SIO",
   "metadata": {
    "colab": {
     "base_uri": "https://localhost:8080/"
    },
    "executionInfo": {
     "elapsed": 54,
     "status": "ok",
     "timestamp": 1687340080078,
     "user": {
      "displayName": "Дмитрий Сгонников",
      "userId": "07223271298258593029"
     },
     "user_tz": -180
    },
    "id": "qvEua-8I_SIO",
    "outputId": "aaddf320-cd98-413f-ec99-34b9c828e6d7"
   },
   "outputs": [],
   "source": [
    "print(\"\\n\".join(preds))"
   ]
  }
 ],
 "metadata": {
  "accelerator": "GPU",
  "colab": {
   "gpuType": "T4",
   "provenance": []
  },
  "kernelspec": {
   "display_name": "Python 3 (ipykernel)",
   "language": "python",
   "name": "python3"
  },
  "language_info": {
   "codemirror_mode": {
    "name": "ipython",
    "version": 3
   },
   "file_extension": ".py",
   "mimetype": "text/x-python",
   "name": "python",
   "nbconvert_exporter": "python",
   "pygments_lexer": "ipython3",
   "version": "3.9.7"
  }
 },
 "nbformat": 4,
 "nbformat_minor": 5
}
