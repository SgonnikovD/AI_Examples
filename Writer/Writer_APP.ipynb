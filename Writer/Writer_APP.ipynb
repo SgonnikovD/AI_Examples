{
 "cells": [
  {
   "cell_type": "code",
   "execution_count": 1,
   "id": "7d4c6fd0",
   "metadata": {},
   "outputs": [],
   "source": [
    "#|default_exp app"
   ]
  },
  {
   "cell_type": "code",
   "execution_count": 2,
   "id": "685180f9",
   "metadata": {},
   "outputs": [],
   "source": [
    "#|export\n",
    "from fastai.text.all import *\n",
    "import gradio as gr"
   ]
  },
  {
   "cell_type": "code",
   "execution_count": 9,
   "id": "3d3ec7bd",
   "metadata": {},
   "outputs": [],
   "source": [
    "#|export\n",
    "import pathlib\n",
    "plt = platform.system()\n",
    "if plt == 'Linux': pathlib.WindowsPath = pathlib.PosixPath\n",
    "if plt == 'Windows': pathlib.PosixPath = pathlib.WindowsPath"
   ]
  },
  {
   "cell_type": "code",
   "execution_count": 4,
   "id": "ea893d0e",
   "metadata": {},
   "outputs": [],
   "source": [
    "path = Path()"
   ]
  },
  {
   "cell_type": "code",
   "execution_count": 5,
   "id": "c6787740",
   "metadata": {},
   "outputs": [
    {
     "data": {
      "text/plain": [
       "(#3) [Path('WriterHP_model_10ep.pkl'),Path('WriterStKng_model_10ep.pkl'),Path('WriterW_model_10ep.pkl')]"
      ]
     },
     "execution_count": 5,
     "metadata": {},
     "output_type": "execute_result"
    }
   ],
   "source": [
    "path.ls(file_exts='.pkl')"
   ]
  },
  {
   "cell_type": "code",
   "execution_count": 6,
   "id": "5414ba0f",
   "metadata": {},
   "outputs": [],
   "source": [
    "class SpacyTokenizerBig():\n",
    "# Измененный класс токенайзера для поддержки словаря большого размера\n",
    "    def __init__(self, lang='en', special_toks=None, buf_sz=5000):\n",
    "        import spacy\n",
    "        from spacy.symbols import ORTH\n",
    "        self.special_toks = ifnone(special_toks, defaults.text_spec_tok)\n",
    "        nlp = spacy.blank(lang)\n",
    "        nlp.max_length = 10**10\n",
    "        for w in self.special_toks: nlp.tokenizer.add_special_case(w, [{ORTH: w}])\n",
    "        self.pipe,self.buf_sz = nlp.pipe,buf_sz\n",
    "\n",
    "    def __call__(self, items):\n",
    "        return (L(doc).attrgot('text') for doc in self.pipe(map(str,items), batch_size=self.buf_sz))"
   ]
  },
  {
   "cell_type": "code",
   "execution_count": 10,
   "id": "21b2c0fb",
   "metadata": {},
   "outputs": [],
   "source": [
    "#|export\n",
    "learnHP = load_learner('WriterHP_model_10ep.pkl')\n",
    "learnStK = load_learner('WriterStKng_model_10ep.pkl')\n",
    "learnW = load_learner('WriterW_model_10ep.pkl')"
   ]
  },
  {
   "cell_type": "code",
   "execution_count": 13,
   "id": "a4fe4c9d",
   "metadata": {},
   "outputs": [],
   "source": [
    "#|export\n",
    "def write_text(text, author, words_cnt):\n",
    "    words_cnt=int(words_cnt)\n",
    "    if author == 'Harry Potter Style':\n",
    "        preds = [learnHP.predict(text, words_cnt, temperature=1)]\n",
    "    elif author == 'Stephen King Style':\n",
    "        preds = [learnStK.predict(text, words_cnt, temperature=1)]\n",
    "    elif author == 'Harry Potter Style + Stephen King Style':\n",
    "        preds = [learnW.predict(text, words_cnt, temperature=1)]\n",
    "    new_text = \"\\n\".join(preds)\n",
    "    return new_text"
   ]
  },
  {
   "cell_type": "code",
   "execution_count": 14,
   "id": "3de748f3",
   "metadata": {},
   "outputs": [
    {
     "name": "stdout",
     "output_type": "stream",
     "text": [
      "Running on local URL:  http://127.0.0.1:7861\n",
      "\n",
      "To create a public link, set `share=True` in `launch()`.\n"
     ]
    },
    {
     "data": {
      "text/plain": []
     },
     "execution_count": 14,
     "metadata": {},
     "output_type": "execute_result"
    },
    {
     "data": {
      "text/html": [
       "\n",
       "<style>\n",
       "    /* Turns off some styling */\n",
       "    progress {\n",
       "        /* gets rid of default border in Firefox and Opera. */\n",
       "        border: none;\n",
       "        /* Needs to be in here for Safari polyfill so background images work as expected. */\n",
       "        background-size: auto;\n",
       "    }\n",
       "    progress:not([value]), progress:not([value])::-webkit-progress-bar {\n",
       "        background: repeating-linear-gradient(45deg, #7e7e7e, #7e7e7e 10px, #5c5c5c 10px, #5c5c5c 20px);\n",
       "    }\n",
       "    .progress-bar-interrupted, .progress-bar-interrupted::-webkit-progress-bar {\n",
       "        background: #F44336;\n",
       "    }\n",
       "</style>\n"
      ],
      "text/plain": [
       "<IPython.core.display.HTML object>"
      ]
     },
     "metadata": {},
     "output_type": "display_data"
    },
    {
     "data": {
      "text/html": [],
      "text/plain": [
       "<IPython.core.display.HTML object>"
      ]
     },
     "metadata": {},
     "output_type": "display_data"
    }
   ],
   "source": [
    "#|export\n",
    "input_text = gr.components.Textbox(value='It was a bright day.', label='Input text')\n",
    "label = gr.components.Textbox()\n",
    "wordcount_num = gr.components.Number(value=40, label='New words count')\n",
    "author_radio = gr.components.Radio(choices=[\"Harry Potter Style\",\n",
    "                                                                \"Stephen King Style\",\n",
    "                                                                \"Harry Potter Style + Stephen King Style\"],\n",
    "                                  value=\"Harry Potter Style\",\n",
    "                                  label='Author')\n",
    "\n",
    "intface = gr.Interface(fn=write_text, inputs=[input_text, author_radio, wordcount_num], outputs=label)\n",
    "intface.launch(inline=False)"
   ]
  },
  {
   "cell_type": "code",
   "execution_count": null,
   "id": "10234b15",
   "metadata": {},
   "outputs": [],
   "source": [
    "# Экспорт файла HotdogOrNot_APP.ipynb для загрузки на Hugging Face\n",
    "from nbdev.export import nb_export\n",
    "nb_export('HotdogOrNot_APP.ipynb','./')"
   ]
  },
  {
   "cell_type": "code",
   "execution_count": null,
   "id": "8318e6a6",
   "metadata": {},
   "outputs": [],
   "source": []
  }
 ],
 "metadata": {
  "kernelspec": {
   "display_name": "Python 3 (ipykernel)",
   "language": "python",
   "name": "python3"
  },
  "language_info": {
   "codemirror_mode": {
    "name": "ipython",
    "version": 3
   },
   "file_extension": ".py",
   "mimetype": "text/x-python",
   "name": "python",
   "nbconvert_exporter": "python",
   "pygments_lexer": "ipython3",
   "version": "3.9.7"
  }
 },
 "nbformat": 4,
 "nbformat_minor": 5
}
