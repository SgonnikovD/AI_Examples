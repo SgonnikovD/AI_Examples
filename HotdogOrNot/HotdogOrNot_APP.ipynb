{
 "cells": [
  {
   "cell_type": "code",
   "execution_count": null,
   "id": "7d4c6fd0",
   "metadata": {},
   "outputs": [],
   "source": [
    "#|default_exp app"
   ]
  },
  {
   "cell_type": "code",
   "execution_count": null,
   "id": "685180f9",
   "metadata": {},
   "outputs": [],
   "source": [
    "#|export\n",
    "from fastai.vision.all import *\n",
    "import gradio as gr"
   ]
  },
  {
   "cell_type": "code",
   "execution_count": null,
   "id": "3d3ec7bd",
   "metadata": {},
   "outputs": [],
   "source": [
    "#|export\n",
    "import pathlib\n",
    "plt = platform.system()\n",
    "if plt == 'Linux': pathlib.WindowsPath = pathlib.PosixPath"
   ]
  },
  {
   "cell_type": "code",
   "execution_count": null,
   "id": "ea893d0e",
   "metadata": {},
   "outputs": [],
   "source": [
    "path = Path()"
   ]
  },
  {
   "cell_type": "code",
   "execution_count": null,
   "id": "20e2ee58",
   "metadata": {},
   "outputs": [],
   "source": [
    "def get_category(filename):\n",
    "# Определение метки по имени файла\n",
    "    if ('frankfurter' in filename.name) | ('chili-dog' in filename.name) | ('hotdog' in filename.name):\n",
    "        y = 1\n",
    "    else: y = 0\n",
    "    return y"
   ]
  },
  {
   "cell_type": "code",
   "execution_count": null,
   "id": "c6787740",
   "metadata": {},
   "outputs": [],
   "source": [
    "path.ls(file_exts='.pkl')"
   ]
  },
  {
   "cell_type": "code",
   "execution_count": null,
   "id": "21b2c0fb",
   "metadata": {},
   "outputs": [],
   "source": [
    "#|export\n",
    "learn = load_learner('hotdog_model.pkl')"
   ]
  },
  {
   "cell_type": "code",
   "execution_count": null,
   "id": "a4fe4c9d",
   "metadata": {},
   "outputs": [],
   "source": [
    "#|export\n",
    "categories = ('Something', 'Hotdog')\n",
    "\n",
    "def classify_image(img):\n",
    "# Функция классификации изображения по меткам (хотдог/что-то другое)\n",
    "    _,_,probs = learn.predict(img)\n",
    "    return dict(zip(categories, map(float, probs)))"
   ]
  },
  {
   "cell_type": "code",
   "execution_count": null,
   "id": "3de748f3",
   "metadata": {},
   "outputs": [],
   "source": [
    "#|export\n",
    "image = gr.components.Image(shape=(224,224))\n",
    "label = gr.components.Label()\n",
    "examples = ['Hotdog 1.jpg', 'Hotdog 2.jpg', 'Something 1.jpg', 'Something 2.jpg']\n",
    "\n",
    "intface = gr.Interface(fn=classify_image, inputs=image, outputs=label, examples=examples)\n",
    "intface.launch(inline=False)"
   ]
  },
  {
   "cell_type": "code",
   "execution_count": null,
   "id": "8318e6a6",
   "metadata": {},
   "outputs": [],
   "source": [
    "# Экспорт файла HotdogOrNot_APP.ipynb для загрузки на Hugging Face\n",
    "from nbdev.export import nb_export\n",
    "nb_export('HotdogOrNot_APP.ipynb','./')"
   ]
  },
  {
   "cell_type": "code",
   "execution_count": null,
   "id": "e5d7f31d",
   "metadata": {},
   "outputs": [],
   "source": []
  }
 ],
 "metadata": {
  "kernelspec": {
   "display_name": "Python 3 (ipykernel)",
   "language": "python",
   "name": "python3"
  },
  "language_info": {
   "codemirror_mode": {
    "name": "ipython",
    "version": 3
   },
   "file_extension": ".py",
   "mimetype": "text/x-python",
   "name": "python",
   "nbconvert_exporter": "python",
   "pygments_lexer": "ipython3",
   "version": "3.9.7"
  }
 },
 "nbformat": 4,
 "nbformat_minor": 5
}
