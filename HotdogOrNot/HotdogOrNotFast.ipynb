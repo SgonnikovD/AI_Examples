{
 "cells": [
  {
   "cell_type": "code",
   "execution_count": null,
   "id": "a0a700a6",
   "metadata": {},
   "outputs": [],
   "source": [
    "from fastai.vision.all import *\n",
    "from fastai import *\n",
    "from fastcore.all import *"
   ]
  },
  {
   "cell_type": "code",
   "execution_count": null,
   "id": "f6fd3843",
   "metadata": {},
   "outputs": [],
   "source": [
    "path=Path()"
   ]
  },
  {
   "cell_type": "code",
   "execution_count": null,
   "id": "046edb93",
   "metadata": {},
   "outputs": [],
   "source": [
    "data_path=(path/'train_kaggle')\n",
    "test_path=(path/'test_kaggle/')"
   ]
  },
  {
   "cell_type": "code",
   "execution_count": null,
   "id": "eae9ee93",
   "metadata": {},
   "outputs": [],
   "source": [
    "def get_category(filename):\n",
    "    \"\"\"Определяет метку по имени файла.\n",
    "    Возвращает метку\"\"\" \n",
    "    if ('frankfurter' in filename.name) | ('chili-dog' in filename.name) | ('hotdog' in filename.name):\n",
    "        y = 1\n",
    "    else: y = 0\n",
    "    return y"
   ]
  },
  {
   "cell_type": "code",
   "execution_count": null,
   "id": "38432b16",
   "metadata": {},
   "outputs": [],
   "source": [
    "db = DataBlock(blocks=[ImageBlock, CategoryBlock], \n",
    "                get_items=get_image_files,\n",
    "                get_y=get_category,\n",
    "                splitter=RandomSplitter(valid_pct=0),\n",
    "                item_tfms=RandomResizedCrop(224, min_scale=0.6),\n",
    "                batch_tfms=aug_transforms)"
   ]
  },
  {
   "cell_type": "code",
   "execution_count": null,
   "id": "7cd3c5ff",
   "metadata": {},
   "outputs": [],
   "source": [
    "dls = db.dataloaders(data_path, bs=32)"
   ]
  },
  {
   "cell_type": "code",
   "execution_count": null,
   "id": "07b08486",
   "metadata": {},
   "outputs": [],
   "source": [
    "# Обучение модели convnext_tiny с загруженными весами\n",
    "learn = vision_learner(dls, convnext_tiny, metrics=accuracy)\n",
    "learn.fine_tune(3)"
   ]
  },
  {
   "cell_type": "code",
   "execution_count": null,
   "id": "c503587d",
   "metadata": {},
   "outputs": [],
   "source": [
    "test = get_image_files(test_path)\n",
    "test_dl = learn.dls.test_dl(test)"
   ]
  },
  {
   "cell_type": "code",
   "execution_count": null,
   "id": "58a5818e",
   "metadata": {},
   "outputs": [],
   "source": [
    "learn.get_preds(dl=test_dl, with_decoded=True)"
   ]
  },
  {
   "cell_type": "code",
   "execution_count": null,
   "id": "2291059d",
   "metadata": {},
   "outputs": [],
   "source": [
    "preds, _, label = learn.get_preds(dl=test_dl, with_decoded=True)"
   ]
  },
  {
   "cell_type": "code",
   "execution_count": null,
   "id": "c69276d7",
   "metadata": {},
   "outputs": [],
   "source": [
    "image_id = []\n",
    "for i in test:\n",
    "    image_id=np.append(image_id, i.name)"
   ]
  },
  {
   "cell_type": "code",
   "execution_count": null,
   "id": "694d6e3b",
   "metadata": {},
   "outputs": [],
   "source": [
    "with open('subm.csv', 'w') as submissionFile:\n",
    "    writer = csv.writer(submissionFile)\n",
    "    writer.writerow(['image_id', 'label'])\n",
    "    writer.writerows(zip(image_id,np.int32(label)))"
   ]
  },
  {
   "cell_type": "code",
   "execution_count": null,
   "id": "86b3f2c6",
   "metadata": {},
   "outputs": [],
   "source": [
    "learn.export(\"hotdog_model.pkl\")"
   ]
  }
 ],
 "metadata": {
  "kernelspec": {
   "display_name": "Python 3 (ipykernel)",
   "language": "python",
   "name": "python3"
  },
  "language_info": {
   "codemirror_mode": {
    "name": "ipython",
    "version": 3
   },
   "file_extension": ".py",
   "mimetype": "text/x-python",
   "name": "python",
   "nbconvert_exporter": "python",
   "pygments_lexer": "ipython3",
   "version": "3.9.7"
  }
 },
 "nbformat": 4,
 "nbformat_minor": 5
}
