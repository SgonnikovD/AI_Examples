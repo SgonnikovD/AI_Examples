{
 "cells": [
  {
   "cell_type": "code",
   "execution_count": null,
   "id": "48b940c6",
   "metadata": {},
   "outputs": [],
   "source": [
    "import numpy as np\n",
    "import pandas as pd\n",
    "from fastcore.all import *\n",
    "from fastai.tabular.all import *\n",
    "\n",
    "import holidays\n",
    "from sklearn.ensemble import RandomForestRegressor\n",
    "from sklearn.model_selection import GridSearchCV\n",
    "from xgboost import XGBRegressor\n",
    "from sklearn.ensemble import GradientBoostingRegressor\n",
    "\n",
    "from lightgbm import LGBMRegressor\n",
    "from catboost import CatBoostRegressor\n",
    "\n",
    "%matplotlib inline\n",
    "import seaborn as sns\n",
    "from matplotlib import pyplot as plt"
   ]
  },
  {
   "cell_type": "code",
   "execution_count": null,
   "id": "edad5c4a",
   "metadata": {},
   "outputs": [],
   "source": [
    "train_df = pd.read_csv('course_sales.csv')\n",
    "test_df  = pd.read_csv('test.csv')"
   ]
  },
  {
   "cell_type": "code",
   "execution_count": null,
   "id": "421c930d",
   "metadata": {},
   "outputs": [],
   "source": [
    "train_df.head(3)"
   ]
  },
  {
   "cell_type": "code",
   "execution_count": null,
   "id": "006ecaab",
   "metadata": {},
   "outputs": [],
   "source": [
    "test_df.head(3)"
   ]
  },
  {
   "cell_type": "code",
   "execution_count": null,
   "id": "532047cb",
   "metadata": {},
   "outputs": [],
   "source": [
    "countries = train_df.country.unique()"
   ]
  },
  {
   "cell_type": "code",
   "execution_count": null,
   "id": "337f58d9",
   "metadata": {},
   "outputs": [],
   "source": [
    "train_df.info()"
   ]
  },
  {
   "cell_type": "code",
   "execution_count": null,
   "id": "598e0700",
   "metadata": {},
   "outputs": [],
   "source": [
    "test_df.info()"
   ]
  },
  {
   "cell_type": "code",
   "execution_count": null,
   "id": "e44c8310",
   "metadata": {},
   "outputs": [],
   "source": [
    "train_df.nunique()"
   ]
  },
  {
   "cell_type": "code",
   "execution_count": null,
   "id": "34f8f6b3",
   "metadata": {},
   "outputs": [],
   "source": [
    "test_id = test_df['id']\n",
    "targ = 'num_sold'"
   ]
  },
  {
   "cell_type": "code",
   "execution_count": null,
   "id": "e158c926",
   "metadata": {},
   "outputs": [],
   "source": [
    "years_list = [2017, 2018, 2019, 2020, 2021, 2022]"
   ]
  },
  {
   "cell_type": "code",
   "execution_count": null,
   "id": "b710e27b",
   "metadata": {},
   "outputs": [],
   "source": [
    "def Predproduction(data):\n",
    "    data = data.drop('id', axis=1)\n",
    "    data['holiday'] = True\n",
    "    for country in countries:\n",
    "        country_holidays = holidays.CountryHoliday(country, years=years_list)\n",
    "        data.loc[data['country'] == country, 'holiday'] = data.loc[data['country'] == country,\n",
    "                                                                   'date'].apply(lambda x: x in country_holidays)\n",
    "    data = add_datepart(data, 'date')\n",
    "    data = data.drop(['Is_month_end', 'Is_month_start', 'Is_quarter_end',\n",
    "                      'Is_quarter_start', 'Is_year_end', 'Is_year_start'], axis=1)\n",
    "    return data"
   ]
  },
  {
   "cell_type": "code",
   "execution_count": null,
   "id": "df88f05b",
   "metadata": {},
   "outputs": [],
   "source": [
    "train_df = Predproduction(train_df)\n",
    "test_df  = Predproduction(test_df)"
   ]
  },
  {
   "cell_type": "code",
   "execution_count": null,
   "id": "1fa564fa",
   "metadata": {},
   "outputs": [],
   "source": [
    "cond = (train_df['Year']<2021)\n",
    "train_idx = np.where( cond)[0]\n",
    "valid_idx = np.where(~cond)[0]\n",
    "\n",
    "splits = (list(train_idx),list(valid_idx))"
   ]
  },
  {
   "cell_type": "code",
   "execution_count": null,
   "id": "f7f04ad6",
   "metadata": {},
   "outputs": [],
   "source": [
    "procs=[Categorify]"
   ]
  },
  {
   "cell_type": "code",
   "execution_count": null,
   "id": "069f7437",
   "metadata": {},
   "outputs": [],
   "source": [
    "con_cols, cat_cols = cont_cat_split(train_df, max_card=5, dep_var=targ)\n",
    "con_cols, cat_cols"
   ]
  },
  {
   "cell_type": "code",
   "execution_count": null,
   "id": "b515d3d5",
   "metadata": {},
   "outputs": [],
   "source": [
    "train_tp = TabularPandas(train_df, procs, cat_names=cat_cols, cont_names=con_cols, y_names=targ)\n",
    "test_tp = TabularPandas(test_df, procs, cat_names=cat_cols, cont_names=con_cols)"
   ]
  },
  {
   "cell_type": "code",
   "execution_count": null,
   "id": "496d14e2",
   "metadata": {},
   "outputs": [],
   "source": [
    "xs=train_tp.train.xs\n",
    "y=train_tp.train.y\n",
    "tst_xs=test_tp.train.xs"
   ]
  },
  {
   "cell_type": "code",
   "execution_count": null,
   "id": "117bbdd4",
   "metadata": {},
   "outputs": [],
   "source": [
    "def smape(A, F):\n",
    "# Вычисление метрики sMAPE\n",
    "    return 100/len(A) * np.sum(2 * np.abs(F - A) / (np.abs(A) + np.abs(F)))"
   ]
  },
  {
   "cell_type": "code",
   "execution_count": null,
   "id": "20dfae09",
   "metadata": {},
   "outputs": [],
   "source": [
    "def eval_model(model, x, y, trn_idx=None, val_idx=None):\n",
    "# Обучение модели и расчет метрики sMAPE\n",
    "    model.fit(x.iloc[trn_idx], y.iloc[trn_idx])\n",
    "    pred = model.predict(x.iloc[val_idx])\n",
    "    metric = smape(pred, y.iloc[val_idx])\n",
    "    return metric, pred"
   ]
  },
  {
   "cell_type": "code",
   "execution_count": null,
   "id": "1758a233",
   "metadata": {},
   "outputs": [],
   "source": [
    "def weighted_sum(preds, scores):\n",
    "# Расчет взвешенной суммы предсказаний для нескольких моделей\n",
    "    w_sum = 0\n",
    "    sum_preds = np.zeros_like(preds[0])\n",
    "    for pred, score in zip(preds, scores):\n",
    "        w_c = score/np.sum(scores)\n",
    "        sum_preds+=np.multiply(pred,w_c)\n",
    "    np.divide(sum_preds, len(preds))\n",
    "    return sum_preds"
   ]
  },
  {
   "cell_type": "code",
   "execution_count": null,
   "id": "67b35a74",
   "metadata": {},
   "outputs": [],
   "source": [
    "gb=GradientBoostingRegressor(n_estimators=500, max_depth=6, min_samples_leaf=6, max_features=0.7)\n",
    "rf=RandomForestRegressor(n_estimators=180, min_samples_leaf=5, max_features=0.5)\n",
    "xgb = XGBRegressor(n_estimators=80, max_depth=7, subsample=0.7, learning_rate=0.3)\n",
    "cat = CatBoostRegressor(silent=True, learning_rate=0.052, iterations=815, depth=12, objective='MAE')\n",
    "lgbm = LGBMRegressor(learning_rate=0.13, min_child_samples=46, n_estimators=300, num_leaves=80,\n",
    "                     objective='MAE')\n",
    "models = [rf, gb, xgb, cat, lgbm]\n",
    "scores = []\n",
    "preds = []\n",
    "for model in models:\n",
    "    score, pred = eval_model(model, xs, y, train_idx, valid_idx)\n",
    "    print(model, 'smape:', score)\n",
    "    scores.append(1/score)\n",
    "    preds.append(pred)\n",
    "f_preds = weighted_sum(preds, scores)\n",
    "smape(f_preds, y.iloc[valid_idx])"
   ]
  },
  {
   "cell_type": "code",
   "execution_count": null,
   "id": "898757c9",
   "metadata": {},
   "outputs": [],
   "source": [
    "gb=GradientBoostingRegressor(n_estimators=500, max_depth=6, min_samples_leaf=6, max_features=0.7)\n",
    "rf=RandomForestRegressor(n_estimators=180, min_samples_leaf=5, max_features=0.6)\n",
    "xgb = XGBRegressor(n_estimators=80, max_depth=7, subsample=0.7, learning_rate=0.3)\n",
    "cat = CatBoostRegressor(silent=True, learning_rate=0.052, iterations=815, depth=12, objective='MAE')\n",
    "lgbm = LGBMRegressor(learning_rate=0.13, min_child_samples=46, n_estimators=300, num_leaves=80,\n",
    "                     objective='MAE')\n",
    "models = [rf, gb, xgb, cat, lgbm]\n",
    "tst_preds = []\n",
    "for model in models:\n",
    "    model.fit(xs, y)\n",
    "    tst_preds.append(model.predict(tst_xs))\n",
    "final_preds = weighted_sum(tst_preds, scores)"
   ]
  },
  {
   "cell_type": "code",
   "execution_count": null,
   "id": "0a0abd18",
   "metadata": {},
   "outputs": [],
   "source": [
    "result_df = pd.read_csv('sample_submission.csv')"
   ]
  },
  {
   "cell_type": "code",
   "execution_count": null,
   "id": "ec9cb366",
   "metadata": {},
   "outputs": [],
   "source": [
    "temp_df = tst_xs.copy()\n",
    "temp_df['num_sold'] = final_preds"
   ]
  },
  {
   "cell_type": "code",
   "execution_count": null,
   "id": "8697683b",
   "metadata": {},
   "outputs": [],
   "source": [
    "mean_by_country = temp_df.groupby('country')[['num_sold']].mean()\n",
    "sum_mean_country = mean_by_country.sum()\n",
    "mean_country_df = 1 / ((mean_by_country/sum_mean_country) / 0.29)\n",
    "mean_country_df"
   ]
  },
  {
   "cell_type": "code",
   "execution_count": null,
   "id": "43c43d2f",
   "metadata": {},
   "outputs": [],
   "source": [
    "def same_mean(df):\n",
    "# Выравнивание результатов по среднему (в связи с особенностями формирования данных текущего соревнования)\n",
    "    df['num_sold'] = df.apply(lambda x: \n",
    "        x['num_sold'] * mean_country_df.loc[1] if x['country'] == 1 else(\n",
    "        x['num_sold'] * mean_country_df.loc[2] if x['country'] == 2 else(\n",
    "        x['num_sold'] * mean_country_df.loc[3] if x['country'] == 3 else(\n",
    "        x['num_sold'] * mean_country_df.loc[4] if x['country'] == 4 else(\n",
    "        x['num_sold'] * mean_country_df.loc[5] if x['country'] == 5 else(\n",
    "        ))))), axis=1)"
   ]
  },
  {
   "cell_type": "code",
   "execution_count": null,
   "id": "1fd73cbb",
   "metadata": {},
   "outputs": [],
   "source": [
    "same_mean(temp_df)"
   ]
  },
  {
   "cell_type": "code",
   "execution_count": null,
   "id": "f0d2e4db",
   "metadata": {},
   "outputs": [],
   "source": [
    "temp_df['num_sold'] = np.round(temp_df['num_sold'],0)"
   ]
  },
  {
   "cell_type": "code",
   "execution_count": null,
   "id": "996c5da2",
   "metadata": {},
   "outputs": [],
   "source": [
    "result_df['num_sold'] = temp_df['num_sold']\n",
    "result_df"
   ]
  },
  {
   "cell_type": "code",
   "execution_count": null,
   "id": "ad2dfc9c",
   "metadata": {},
   "outputs": [],
   "source": [
    "result_df.to_csv('subm_ens.csv', index = False)"
   ]
  },
  {
   "cell_type": "code",
   "execution_count": null,
   "id": "02836412",
   "metadata": {},
   "outputs": [],
   "source": []
  }
 ],
 "metadata": {
  "kernelspec": {
   "display_name": "Python 3 (ipykernel)",
   "language": "python",
   "name": "python3"
  },
  "language_info": {
   "codemirror_mode": {
    "name": "ipython",
    "version": 3
   },
   "file_extension": ".py",
   "mimetype": "text/x-python",
   "name": "python",
   "nbconvert_exporter": "python",
   "pygments_lexer": "ipython3",
   "version": "3.9.7"
  }
 },
 "nbformat": 4,
 "nbformat_minor": 5
}
