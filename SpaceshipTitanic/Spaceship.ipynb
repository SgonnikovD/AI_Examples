{
 "cells": [
  {
   "cell_type": "code",
   "execution_count": null,
   "id": "1ae80e04",
   "metadata": {},
   "outputs": [],
   "source": [
    "import numpy as np\n",
    "import pandas as pd\n",
    "\n",
    "from sklearn.model_selection import GridSearchCV\n",
    "from sklearn.ensemble import GradientBoostingClassifier\n",
    "\n",
    "%matplotlib inline\n",
    "import seaborn as sns\n",
    "from matplotlib import pyplot as plt"
   ]
  },
  {
   "cell_type": "code",
   "execution_count": null,
   "id": "f757a0d4",
   "metadata": {},
   "outputs": [],
   "source": [
    "train_df = pd.read_csv('./data/spaceship-titanic-train.csv')\n",
    "test_df = pd.read_csv('./data/spaceship-titanic-test.csv')\n",
    "sample_df = pd.read_csv('./data/spaceship-titanic-sample.csv')"
   ]
  },
  {
   "cell_type": "code",
   "execution_count": null,
   "id": "cb9bb513",
   "metadata": {},
   "outputs": [],
   "source": [
    "sample_df.info()"
   ]
  },
  {
   "cell_type": "code",
   "execution_count": null,
   "id": "f136ea49",
   "metadata": {},
   "outputs": [],
   "source": [
    "train_df.info()"
   ]
  },
  {
   "cell_type": "code",
   "execution_count": null,
   "id": "9c7ed0ba",
   "metadata": {},
   "outputs": [],
   "source": [
    "train_df.describe(include='all')"
   ]
  },
  {
   "cell_type": "code",
   "execution_count": null,
   "id": "306d0b15",
   "metadata": {},
   "outputs": [],
   "source": [
    "test_df.describe(include='all')"
   ]
  },
  {
   "cell_type": "code",
   "execution_count": null,
   "id": "041d325e",
   "metadata": {},
   "outputs": [],
   "source": [
    "train_df.head(5)"
   ]
  },
  {
   "cell_type": "code",
   "execution_count": null,
   "id": "61995993",
   "metadata": {},
   "outputs": [],
   "source": [
    "plt.scatter(\n",
    "    x=train_df['RoomService'],\n",
    "    y=train_df['FoodCourt'],\n",
    "    color=train_df['Transported'].map({False: 'orange', True: 'blue'})\n",
    "                                                                                         )"
   ]
  },
  {
   "cell_type": "code",
   "execution_count": null,
   "id": "da901a88",
   "metadata": {},
   "outputs": [],
   "source": [
    "plt.scatter(\n",
    "    x=train_df['Age'],\n",
    "    y=train_df['VRDeck'],\n",
    "    color=train_df['Transported'].map({False: 'orange', True: 'blue'})\n",
    "                                                                                         )"
   ]
  },
  {
   "cell_type": "code",
   "execution_count": null,
   "id": "0b862a6a",
   "metadata": {},
   "outputs": [],
   "source": [
    "plt.scatter(\n",
    "    x=train_df['Age'],\n",
    "    y=train_df['FoodCourt'],\n",
    "    color=train_df['Transported'].map({False: 'orange', True: 'blue'})\n",
    "                                                                                         )"
   ]
  },
  {
   "cell_type": "code",
   "execution_count": null,
   "id": "43d6f601",
   "metadata": {},
   "outputs": [],
   "source": [
    "sns.heatmap(train_df.corr())"
   ]
  },
  {
   "cell_type": "code",
   "execution_count": null,
   "id": "661be128",
   "metadata": {},
   "outputs": [],
   "source": [
    "train_df.groupby('Transported')['FoodCourt'].mean(), \\\n",
    "train_df.groupby('Transported')['Spa'].mean(), \\\n",
    "train_df.groupby('Transported')['VRDeck'].mean(), \\\n",
    "train_df.groupby('Transported')['ShoppingMall'].mean(), \\\n",
    "train_df.groupby('Transported')['RoomService'].mean()"
   ]
  },
  {
   "cell_type": "code",
   "execution_count": null,
   "id": "de57d17e",
   "metadata": {},
   "outputs": [],
   "source": [
    "sns.countplot(x='CryoSleep', hue='Transported', data=train_df)"
   ]
  },
  {
   "cell_type": "code",
   "execution_count": null,
   "id": "d4a37a52",
   "metadata": {},
   "outputs": [],
   "source": [
    "sns.countplot(x='HomePlanet', hue='Transported', data=train_df)"
   ]
  },
  {
   "cell_type": "code",
   "execution_count": null,
   "id": "5f693e81",
   "metadata": {},
   "outputs": [],
   "source": [
    "sns.countplot(x='VIP', hue='Transported', data=train_df)"
   ]
  },
  {
   "cell_type": "code",
   "execution_count": null,
   "id": "0ba66326",
   "metadata": {},
   "outputs": [],
   "source": [
    "train_df['Transported'] = train_df['Transported'].astype('int')\n",
    "y=train_df['Transported']"
   ]
  },
  {
   "cell_type": "code",
   "execution_count": null,
   "id": "48075a82",
   "metadata": {},
   "outputs": [],
   "source": [
    "def Predproduction(data):\n",
    "    object_cols = data.columns[data.dtypes == 'object']\n",
    "    num_cols =    data.columns[data.dtypes == 'float64']\n",
    "    for col in object_cols:\n",
    "        data[col].fillna(data[col].mode()[0], inplace=True)\n",
    "    for col in num_cols:\n",
    "        data[col].fillna(data[col].median(), inplace=True)\n",
    "    \n",
    "    fams = data['Name'].str.split(expand=True)[1]\n",
    "    fam_counts = fams.value_counts()\n",
    "    data['FamilySize'] = fams.apply(lambda x: fam_counts[x].astype('int'))\n",
    "    data=data.drop('Name', axis=1)\n",
    "\n",
    "    groups = data['PassengerId'].str.split('_', expand=True)[0]\n",
    "    group_counts = groups.value_counts()\n",
    "    data['GroupSize'] = groups.apply(lambda x: group_counts[x]).astype('int')\n",
    "    data=data.drop('PassengerId', axis=1)\n",
    "    \n",
    "    data['CryoSleep'] = data['CryoSleep'].astype('int')\n",
    "    data['VIP'] = data['VIP'].astype('int')\n",
    "    data = data.drop('VIP',axis=1)\n",
    "    \n",
    "    data['Deck']=data['Cabin'].str.split('/', expand=True)[0]\n",
    "    data['Side']=data['Cabin'].str.split('/', expand=True)[2]\n",
    "    data=data.drop('Cabin', axis=1)\n",
    "    \n",
    "    data = pd.concat(\n",
    "        [\n",
    "            data,\n",
    "            pd.get_dummies(data[\"HomePlanet\"], prefix=\"HomePlanet\"),\n",
    "            pd.get_dummies(data[\"Destination\"], prefix=\"Destination\"),\n",
    "            pd.get_dummies(data[\"Deck\"], prefix=\"Deck\"),\n",
    "            pd.get_dummies(data[\"Side\"], prefix=\"Side\")\n",
    "        ],\n",
    "        axis=1,\n",
    "    )\n",
    "    data = data.drop('HomePlanet',axis=1)\n",
    "    data = data.drop('Destination',axis=1)\n",
    "    data = data.drop('Deck',axis=1)\n",
    "    data = data.drop('Side',axis=1)\n",
    "    \n",
    "    data['Wastes'] = data[['RoomService', 'FoodCourt', 'ShoppingMall', 'Spa', 'VRDeck']].sum(axis=1)\n",
    "   \n",
    "    return data"
   ]
  },
  {
   "cell_type": "code",
   "execution_count": null,
   "id": "be5b3e7d",
   "metadata": {},
   "outputs": [],
   "source": [
    "def write_to_submission_file(predicted_labels, passid, out_file,\n",
    "                             target='Transported', index_label=\"PassengerId\"):\n",
    "# Перевод предсказаний модели в DataFrame и сохранение в csv-файл\n",
    "    predicted_df = pd.DataFrame(predicted_labels,\n",
    "                                passid,\n",
    "                                columns=[target])\n",
    "    predicted_df.to_csv(out_file, index_label=index_label)"
   ]
  },
  {
   "cell_type": "code",
   "execution_count": null,
   "id": "242a7cf6",
   "metadata": {},
   "outputs": [],
   "source": [
    "train_df_new=Predproduction(train_df)\n",
    "test_df_new=Predproduction(test_df)\n",
    "train_df_new = train_df_new.drop('Transported', axis=1)"
   ]
  },
  {
   "cell_type": "code",
   "execution_count": null,
   "id": "0ad91d13",
   "metadata": {},
   "outputs": [],
   "source": [
    "%%time\n",
    "# Поиск наилучших параметров модели\n",
    "gb_params = {\n",
    "    'n_estimators': list(range(100,300,20)),\n",
    "    'min_samples_leaf': list(range(3,11)),\n",
    "    'max_depth': [3,5,7,9],\n",
    "    'random_state': [17],\n",
    "    'max_features': [0.3, 0.5, 0.7]\n",
    "}\n",
    "gb=GradientBoostingClassifier()\n",
    "gsCV=GridSearchCV(gb, gb_params, cv=5)\n",
    "gsCV.fit(train_df_new, y)\n",
    "gsCV.best_params_, gsCV.best_score_"
   ]
  },
  {
   "cell_type": "code",
   "execution_count": null,
   "id": "32c6a929",
   "metadata": {},
   "outputs": [],
   "source": [
    "gb=GradientBoostingClassifier(n_estimators=200, max_depth=5, min_samples_leaf=9, max_features=0.3)\n",
    "gb.fit(train_df_new, y)"
   ]
  },
  {
   "cell_type": "code",
   "execution_count": null,
   "id": "ccb0a88d",
   "metadata": {},
   "outputs": [],
   "source": [
    "res=gb.predict(test_df_new)"
   ]
  },
  {
   "cell_type": "code",
   "execution_count": null,
   "id": "0753057b",
   "metadata": {},
   "outputs": [],
   "source": [
    "write_to_submission_file(res.astype('bool'), test_df['PassengerId'], 'spacetitanic_pred_.csv')"
   ]
  }
 ],
 "metadata": {
  "kernelspec": {
   "display_name": "Python 3 (ipykernel)",
   "language": "python",
   "name": "python3"
  },
  "language_info": {
   "codemirror_mode": {
    "name": "ipython",
    "version": 3
   },
   "file_extension": ".py",
   "mimetype": "text/x-python",
   "name": "python",
   "nbconvert_exporter": "python",
   "pygments_lexer": "ipython3",
   "version": "3.9.7"
  }
 },
 "nbformat": 4,
 "nbformat_minor": 5
}
